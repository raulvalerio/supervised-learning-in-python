{
 "cells": [
  {
   "cell_type": "markdown",
   "metadata": {},
   "source": [
    "### ----    DATA SOURCE  ---- ####\n",
    "\n",
    "https://archive.ics.uci.edu/ml/datasets/Heart+failure+clinical+records\n",
    "\n",
    "\n",
    "- age: age of the patient (years)\n",
    "- anaemia: decrease of red blood cells or hemoglobin (boolean)\n",
    "- high blood pressure: if the patient has hypertension (boolean)\n",
    "- creatinine phosphokinase (CPK): level of the CPK enzyme in the blood (mcg/L)\n",
    "- diabetes: if the patient has diabetes (boolean)\n",
    "- ejection fraction: percentage of blood leaving the heart at each contraction (percentage)\n",
    "- platelets: platelets in the blood (kiloplatelets/mL)\n",
    "- sex: woman or man (binary)\n",
    "- serum creatinine: level of serum creatinine in the blood (mg/dL)\n",
    "- serum sodium: level of serum sodium in the blood (mEq/L)\n",
    "- smoking: if the patient smokes or not (boolean)\n",
    "- time: follow-up period (days)\n",
    "- [target] death event: if the patient deceased during the follow-up period (boolean)\n"
   ]
  },
  {
   "cell_type": "markdown",
   "metadata": {},
   "source": [
    "What do we calculate?\n",
    "\n",
    "$$ Log Odds( y=1 )=  \\beta_0+ \\beta_{1}*x_{1} + \\beta_{2}*x_{2} + \\beta_{3}*x_{3} $$\n",
    "\n",
    "Odds\n",
    "\n",
    "$$ Odds( y=1 )= e^{ \\beta_0+ \\beta_{1}*x_{1} + \\beta_{2}*_{2} + \\beta_{3}*_{3} } =  e^{ \\beta_0}  e^{\\beta_{1}*x_{1}} e^{ \\beta_{2}*x_{2}} e^{\\beta_{3}*x_{3} }$$\n",
    "\n",
    "we know\n",
    "\n",
    "$$ Odds = {p \\over {1 - p}} $$\n",
    "\n",
    "Probability of y given x:\n",
    "\n",
    "$$  P(y=1|X)  = {1\\over {1 + e^{- (\\beta_0 + \\beta_{1}*x_{1} + \\beta_{2}*x_{2}\n",
    "                       + \\beta_{3}*x_{3} )}}  }  $$\n",
    "                       \n",
    "In summary, we calculate the LogOdds and then the probability which we transform to 0 or 1 using a threshold, typically 0.5.\n"
   ]
  },
  {
   "cell_type": "code",
   "execution_count": 1,
   "metadata": {},
   "outputs": [],
   "source": [
    "import pandas as pd\n",
    "import numpy as np\n",
    "\n",
    "from sklearn.linear_model import LogisticRegression\n",
    "from sklearn.metrics import accuracy_score, precision_score\n",
    "from sklearn.metrics import confusion_matrix"
   ]
  },
  {
   "cell_type": "code",
   "execution_count": 2,
   "metadata": {},
   "outputs": [],
   "source": [
    "heart_failure = pd.read_csv('C:/Users/isach/Documents/Canal Yout/Practica R/heart_failure_clinical_records_dataset.csv')"
   ]
  },
  {
   "cell_type": "code",
   "execution_count": 3,
   "metadata": {
    "scrolled": true
   },
   "outputs": [
    {
     "data": {
      "text/html": [
       "<div>\n",
       "<style scoped>\n",
       "    .dataframe tbody tr th:only-of-type {\n",
       "        vertical-align: middle;\n",
       "    }\n",
       "\n",
       "    .dataframe tbody tr th {\n",
       "        vertical-align: top;\n",
       "    }\n",
       "\n",
       "    .dataframe thead th {\n",
       "        text-align: right;\n",
       "    }\n",
       "</style>\n",
       "<table border=\"1\" class=\"dataframe\">\n",
       "  <thead>\n",
       "    <tr style=\"text-align: right;\">\n",
       "      <th></th>\n",
       "      <th>age</th>\n",
       "      <th>anaemia</th>\n",
       "      <th>creatinine_phosphokinase</th>\n",
       "      <th>diabetes</th>\n",
       "      <th>ejection_fraction</th>\n",
       "      <th>high_blood_pressure</th>\n",
       "      <th>platelets</th>\n",
       "      <th>serum_creatinine</th>\n",
       "      <th>serum_sodium</th>\n",
       "      <th>sex</th>\n",
       "      <th>smoking</th>\n",
       "      <th>time</th>\n",
       "      <th>DEATH_EVENT</th>\n",
       "    </tr>\n",
       "  </thead>\n",
       "  <tbody>\n",
       "    <tr>\n",
       "      <td>0</td>\n",
       "      <td>75.0</td>\n",
       "      <td>0</td>\n",
       "      <td>582</td>\n",
       "      <td>0</td>\n",
       "      <td>20</td>\n",
       "      <td>1</td>\n",
       "      <td>265000.00</td>\n",
       "      <td>1.9</td>\n",
       "      <td>130</td>\n",
       "      <td>1</td>\n",
       "      <td>0</td>\n",
       "      <td>4</td>\n",
       "      <td>1</td>\n",
       "    </tr>\n",
       "    <tr>\n",
       "      <td>1</td>\n",
       "      <td>55.0</td>\n",
       "      <td>0</td>\n",
       "      <td>7861</td>\n",
       "      <td>0</td>\n",
       "      <td>38</td>\n",
       "      <td>0</td>\n",
       "      <td>263358.03</td>\n",
       "      <td>1.1</td>\n",
       "      <td>136</td>\n",
       "      <td>1</td>\n",
       "      <td>0</td>\n",
       "      <td>6</td>\n",
       "      <td>1</td>\n",
       "    </tr>\n",
       "    <tr>\n",
       "      <td>2</td>\n",
       "      <td>65.0</td>\n",
       "      <td>0</td>\n",
       "      <td>146</td>\n",
       "      <td>0</td>\n",
       "      <td>20</td>\n",
       "      <td>0</td>\n",
       "      <td>162000.00</td>\n",
       "      <td>1.3</td>\n",
       "      <td>129</td>\n",
       "      <td>1</td>\n",
       "      <td>1</td>\n",
       "      <td>7</td>\n",
       "      <td>1</td>\n",
       "    </tr>\n",
       "    <tr>\n",
       "      <td>3</td>\n",
       "      <td>50.0</td>\n",
       "      <td>1</td>\n",
       "      <td>111</td>\n",
       "      <td>0</td>\n",
       "      <td>20</td>\n",
       "      <td>0</td>\n",
       "      <td>210000.00</td>\n",
       "      <td>1.9</td>\n",
       "      <td>137</td>\n",
       "      <td>1</td>\n",
       "      <td>0</td>\n",
       "      <td>7</td>\n",
       "      <td>1</td>\n",
       "    </tr>\n",
       "    <tr>\n",
       "      <td>4</td>\n",
       "      <td>65.0</td>\n",
       "      <td>1</td>\n",
       "      <td>160</td>\n",
       "      <td>1</td>\n",
       "      <td>20</td>\n",
       "      <td>0</td>\n",
       "      <td>327000.00</td>\n",
       "      <td>2.7</td>\n",
       "      <td>116</td>\n",
       "      <td>0</td>\n",
       "      <td>0</td>\n",
       "      <td>8</td>\n",
       "      <td>1</td>\n",
       "    </tr>\n",
       "    <tr>\n",
       "      <td>5</td>\n",
       "      <td>90.0</td>\n",
       "      <td>1</td>\n",
       "      <td>47</td>\n",
       "      <td>0</td>\n",
       "      <td>40</td>\n",
       "      <td>1</td>\n",
       "      <td>204000.00</td>\n",
       "      <td>2.1</td>\n",
       "      <td>132</td>\n",
       "      <td>1</td>\n",
       "      <td>1</td>\n",
       "      <td>8</td>\n",
       "      <td>1</td>\n",
       "    </tr>\n",
       "    <tr>\n",
       "      <td>6</td>\n",
       "      <td>75.0</td>\n",
       "      <td>1</td>\n",
       "      <td>246</td>\n",
       "      <td>0</td>\n",
       "      <td>15</td>\n",
       "      <td>0</td>\n",
       "      <td>127000.00</td>\n",
       "      <td>1.2</td>\n",
       "      <td>137</td>\n",
       "      <td>1</td>\n",
       "      <td>0</td>\n",
       "      <td>10</td>\n",
       "      <td>1</td>\n",
       "    </tr>\n",
       "    <tr>\n",
       "      <td>7</td>\n",
       "      <td>60.0</td>\n",
       "      <td>1</td>\n",
       "      <td>315</td>\n",
       "      <td>1</td>\n",
       "      <td>60</td>\n",
       "      <td>0</td>\n",
       "      <td>454000.00</td>\n",
       "      <td>1.1</td>\n",
       "      <td>131</td>\n",
       "      <td>1</td>\n",
       "      <td>1</td>\n",
       "      <td>10</td>\n",
       "      <td>1</td>\n",
       "    </tr>\n",
       "    <tr>\n",
       "      <td>8</td>\n",
       "      <td>65.0</td>\n",
       "      <td>0</td>\n",
       "      <td>157</td>\n",
       "      <td>0</td>\n",
       "      <td>65</td>\n",
       "      <td>0</td>\n",
       "      <td>263358.03</td>\n",
       "      <td>1.5</td>\n",
       "      <td>138</td>\n",
       "      <td>0</td>\n",
       "      <td>0</td>\n",
       "      <td>10</td>\n",
       "      <td>1</td>\n",
       "    </tr>\n",
       "    <tr>\n",
       "      <td>9</td>\n",
       "      <td>80.0</td>\n",
       "      <td>1</td>\n",
       "      <td>123</td>\n",
       "      <td>0</td>\n",
       "      <td>35</td>\n",
       "      <td>1</td>\n",
       "      <td>388000.00</td>\n",
       "      <td>9.4</td>\n",
       "      <td>133</td>\n",
       "      <td>1</td>\n",
       "      <td>1</td>\n",
       "      <td>10</td>\n",
       "      <td>1</td>\n",
       "    </tr>\n",
       "  </tbody>\n",
       "</table>\n",
       "</div>"
      ],
      "text/plain": [
       "    age  anaemia  creatinine_phosphokinase  diabetes  ejection_fraction  \\\n",
       "0  75.0        0                       582         0                 20   \n",
       "1  55.0        0                      7861         0                 38   \n",
       "2  65.0        0                       146         0                 20   \n",
       "3  50.0        1                       111         0                 20   \n",
       "4  65.0        1                       160         1                 20   \n",
       "5  90.0        1                        47         0                 40   \n",
       "6  75.0        1                       246         0                 15   \n",
       "7  60.0        1                       315         1                 60   \n",
       "8  65.0        0                       157         0                 65   \n",
       "9  80.0        1                       123         0                 35   \n",
       "\n",
       "   high_blood_pressure  platelets  serum_creatinine  serum_sodium  sex  \\\n",
       "0                    1  265000.00               1.9           130    1   \n",
       "1                    0  263358.03               1.1           136    1   \n",
       "2                    0  162000.00               1.3           129    1   \n",
       "3                    0  210000.00               1.9           137    1   \n",
       "4                    0  327000.00               2.7           116    0   \n",
       "5                    1  204000.00               2.1           132    1   \n",
       "6                    0  127000.00               1.2           137    1   \n",
       "7                    0  454000.00               1.1           131    1   \n",
       "8                    0  263358.03               1.5           138    0   \n",
       "9                    1  388000.00               9.4           133    1   \n",
       "\n",
       "   smoking  time  DEATH_EVENT  \n",
       "0        0     4            1  \n",
       "1        0     6            1  \n",
       "2        1     7            1  \n",
       "3        0     7            1  \n",
       "4        0     8            1  \n",
       "5        1     8            1  \n",
       "6        0    10            1  \n",
       "7        1    10            1  \n",
       "8        0    10            1  \n",
       "9        1    10            1  "
      ]
     },
     "execution_count": 3,
     "metadata": {},
     "output_type": "execute_result"
    }
   ],
   "source": [
    "heart_failure.head(n=10)"
   ]
  },
  {
   "cell_type": "code",
   "execution_count": 4,
   "metadata": {},
   "outputs": [
    {
     "data": {
      "text/html": [
       "<div>\n",
       "<style scoped>\n",
       "    .dataframe tbody tr th:only-of-type {\n",
       "        vertical-align: middle;\n",
       "    }\n",
       "\n",
       "    .dataframe tbody tr th {\n",
       "        vertical-align: top;\n",
       "    }\n",
       "\n",
       "    .dataframe thead th {\n",
       "        text-align: right;\n",
       "    }\n",
       "</style>\n",
       "<table border=\"1\" class=\"dataframe\">\n",
       "  <thead>\n",
       "    <tr style=\"text-align: right;\">\n",
       "      <th></th>\n",
       "      <th>age</th>\n",
       "      <th>creatinine_phosphokinase</th>\n",
       "      <th>ejection_fraction</th>\n",
       "      <th>platelets</th>\n",
       "      <th>serum_creatinine</th>\n",
       "      <th>serum_sodium</th>\n",
       "      <th>time</th>\n",
       "    </tr>\n",
       "  </thead>\n",
       "  <tbody>\n",
       "    <tr>\n",
       "      <td>age</td>\n",
       "      <td>1.000000</td>\n",
       "      <td>-0.081584</td>\n",
       "      <td>0.060098</td>\n",
       "      <td>-0.052354</td>\n",
       "      <td>0.159187</td>\n",
       "      <td>-0.045966</td>\n",
       "      <td>-0.224068</td>\n",
       "    </tr>\n",
       "    <tr>\n",
       "      <td>creatinine_phosphokinase</td>\n",
       "      <td>-0.081584</td>\n",
       "      <td>1.000000</td>\n",
       "      <td>-0.044080</td>\n",
       "      <td>0.024463</td>\n",
       "      <td>-0.016408</td>\n",
       "      <td>0.059550</td>\n",
       "      <td>-0.009346</td>\n",
       "    </tr>\n",
       "    <tr>\n",
       "      <td>ejection_fraction</td>\n",
       "      <td>0.060098</td>\n",
       "      <td>-0.044080</td>\n",
       "      <td>1.000000</td>\n",
       "      <td>0.072177</td>\n",
       "      <td>-0.011302</td>\n",
       "      <td>0.175902</td>\n",
       "      <td>0.041729</td>\n",
       "    </tr>\n",
       "    <tr>\n",
       "      <td>platelets</td>\n",
       "      <td>-0.052354</td>\n",
       "      <td>0.024463</td>\n",
       "      <td>0.072177</td>\n",
       "      <td>1.000000</td>\n",
       "      <td>-0.041198</td>\n",
       "      <td>0.062125</td>\n",
       "      <td>0.010514</td>\n",
       "    </tr>\n",
       "    <tr>\n",
       "      <td>serum_creatinine</td>\n",
       "      <td>0.159187</td>\n",
       "      <td>-0.016408</td>\n",
       "      <td>-0.011302</td>\n",
       "      <td>-0.041198</td>\n",
       "      <td>1.000000</td>\n",
       "      <td>-0.189095</td>\n",
       "      <td>-0.149315</td>\n",
       "    </tr>\n",
       "    <tr>\n",
       "      <td>serum_sodium</td>\n",
       "      <td>-0.045966</td>\n",
       "      <td>0.059550</td>\n",
       "      <td>0.175902</td>\n",
       "      <td>0.062125</td>\n",
       "      <td>-0.189095</td>\n",
       "      <td>1.000000</td>\n",
       "      <td>0.087640</td>\n",
       "    </tr>\n",
       "    <tr>\n",
       "      <td>time</td>\n",
       "      <td>-0.224068</td>\n",
       "      <td>-0.009346</td>\n",
       "      <td>0.041729</td>\n",
       "      <td>0.010514</td>\n",
       "      <td>-0.149315</td>\n",
       "      <td>0.087640</td>\n",
       "      <td>1.000000</td>\n",
       "    </tr>\n",
       "  </tbody>\n",
       "</table>\n",
       "</div>"
      ],
      "text/plain": [
       "                               age  creatinine_phosphokinase  \\\n",
       "age                       1.000000                 -0.081584   \n",
       "creatinine_phosphokinase -0.081584                  1.000000   \n",
       "ejection_fraction         0.060098                 -0.044080   \n",
       "platelets                -0.052354                  0.024463   \n",
       "serum_creatinine          0.159187                 -0.016408   \n",
       "serum_sodium             -0.045966                  0.059550   \n",
       "time                     -0.224068                 -0.009346   \n",
       "\n",
       "                          ejection_fraction  platelets  serum_creatinine  \\\n",
       "age                                0.060098  -0.052354          0.159187   \n",
       "creatinine_phosphokinase          -0.044080   0.024463         -0.016408   \n",
       "ejection_fraction                  1.000000   0.072177         -0.011302   \n",
       "platelets                          0.072177   1.000000         -0.041198   \n",
       "serum_creatinine                  -0.011302  -0.041198          1.000000   \n",
       "serum_sodium                       0.175902   0.062125         -0.189095   \n",
       "time                               0.041729   0.010514         -0.149315   \n",
       "\n",
       "                          serum_sodium      time  \n",
       "age                          -0.045966 -0.224068  \n",
       "creatinine_phosphokinase      0.059550 -0.009346  \n",
       "ejection_fraction             0.175902  0.041729  \n",
       "platelets                     0.062125  0.010514  \n",
       "serum_creatinine             -0.189095 -0.149315  \n",
       "serum_sodium                  1.000000  0.087640  \n",
       "time                          0.087640  1.000000  "
      ]
     },
     "execution_count": 4,
     "metadata": {},
     "output_type": "execute_result"
    }
   ],
   "source": [
    "cols =[\"age\",\"creatinine_phosphokinase\",\"ejection_fraction\",\"platelets\",\"serum_creatinine\",\"serum_sodium\",\"time\"];\n",
    "heart_failure[cols].corr()"
   ]
  },
  {
   "cell_type": "code",
   "execution_count": 6,
   "metadata": {},
   "outputs": [
    {
     "data": {
      "image/png": "[encoded data removed]",
      "text/plain": [
       "<Figure size 432x288 with 1 Axes>"
      ]
     },
     "metadata": {
      "needs_background": "light"
     },
     "output_type": "display_data"
    }
   ],
   "source": [
    "import seaborn as sns\n",
    "import matplotlib.pyplot as plt\n",
    "%matplotlib inline\n",
    "\n",
    "sns.countplot(x=\"DEATH_EVENT\", hue=\"smoking\", data=heart_failure);"
   ]
  },
  {
   "cell_type": "code",
   "execution_count": 7,
   "metadata": {},
   "outputs": [
    {
     "data": {
      "image/png": "[encoded data removed]",
      "text/plain": [
       "<Figure size 432x288 with 1 Axes>"
      ]
     },
     "metadata": {
      "needs_background": "light"
     },
     "output_type": "display_data"
    }
   ],
   "source": [
    "import seaborn as sns\n",
    "import matplotlib.pyplot as plt\n",
    "%matplotlib inline\n",
    "\n",
    "sns.countplot(x=\"DEATH_EVENT\", hue=\"high_blood_pressure\", data=heart_failure);"
   ]
  },
  {
   "cell_type": "code",
   "execution_count": 10,
   "metadata": {},
   "outputs": [
    {
     "data": {
      "text/plain": [
       "DEATH_EVENT\n",
       "0    58.761906\n",
       "1    65.215281\n",
       "Name: age, dtype: float64"
      ]
     },
     "execution_count": 10,
     "metadata": {},
     "output_type": "execute_result"
    }
   ],
   "source": [
    "heart_failure.groupby(['DEATH_EVENT'])['age'].mean()"
   ]
  },
  {
   "cell_type": "code",
   "execution_count": 11,
   "metadata": {},
   "outputs": [
    {
     "data": {
      "image/png": "[encoded data removed]",
      "text/plain": [
       "<Figure size 445.575x288 with 2 Axes>"
      ]
     },
     "metadata": {
      "needs_background": "light"
     },
     "output_type": "display_data"
    }
   ],
   "source": [
    "sns.catplot(x=\"anaemia\", hue=\"sex\", col=\"DEATH_EVENT\",\n",
    "                data=heart_failure, kind=\"count\",\n",
    "                height=4, aspect=.7);"
   ]
  },
  {
   "cell_type": "code",
   "execution_count": 13,
   "metadata": {},
   "outputs": [
    {
     "data": {
      "image/png": "[encoded data removed]",
      "text/plain": [
       "<Figure size 432x288 with 1 Axes>"
      ]
     },
     "metadata": {
      "needs_background": "light"
     },
     "output_type": "display_data"
    }
   ],
   "source": [
    "x1 = heart_failure.age[heart_failure.DEATH_EVENT==1]\n",
    "x2 = heart_failure[heart_failure.DEATH_EVENT==0]['age']\n",
    "\n",
    "# Normalize\n",
    "kwargs = dict(alpha=0.5, bins=8, density=True, stacked=True)  # 8 bins for 8 groups of age, 0 -10 , 11 - 20, ...\n",
    "\n",
    "plt.hist(x1, **kwargs, color='g', label='No Survived');      # green\n",
    "plt.hist(x2, **kwargs, color='b', label='Survived');   # blue\n",
    "plt.legend();"
   ]
  },
  {
   "cell_type": "markdown",
   "metadata": {},
   "source": [
    "### Split data in train and test"
   ]
  },
  {
   "cell_type": "code",
   "execution_count": 14,
   "metadata": {},
   "outputs": [],
   "source": [
    "from sklearn.model_selection import train_test_split\n",
    "X= heart_failure.drop(columns = \"DEATH_EVENT\")\n",
    "y= heart_failure.DEATH_EVENT\n",
    "\n",
    "X_train, X_test, y_train, y_test = train_test_split(X,y , random_state = 0,test_size=0.30)"
   ]
  },
  {
   "cell_type": "markdown",
   "metadata": {},
   "source": [
    "### Running model"
   ]
  },
  {
   "cell_type": "code",
   "execution_count": 15,
   "metadata": {},
   "outputs": [
    {
     "name": "stdout",
     "output_type": "stream",
     "text": [
      "Accuracy in Training set:  0.84688995215311\n",
      "Accuracy in Testing set:  0.7888888888888889\n",
      "Accuracy in cross validation:  0.847327337060746\n"
     ]
    }
   ],
   "source": [
    "model = LogisticRegression(solver='lbfgs',max_iter=10000) #, C= 1e9\n",
    "\n",
    "model.fit(X_train, y_train)\n",
    "\n",
    "predictions = model.predict(X_test)    ## predictions are binary classes (0 or 1)\n",
    "\n",
    "accuracyTrain = model.score(X_train, y_train)\n",
    "accuracyTest = model.score(X_test, y_test)\n",
    "\n",
    "print(\"Accuracy in Training set: \", accuracyTrain)\n",
    "print(\"Accuracy in Testing set: \", accuracyTest)\n",
    "\n",
    "from sklearn.model_selection import cross_val_score\n",
    "\n",
    "scores = cross_val_score(model, X_train, y_train, cv=5).mean()\n",
    "\n",
    "print(\"Accuracy in cross validation: \", scores)"
   ]
  },
  {
   "cell_type": "code",
   "execution_count": 16,
   "metadata": {},
   "outputs": [
    {
     "data": {
      "text/plain": [
       "array([[ 6.36015619e-02,  3.87211426e-04,  3.10861114e-04,\n",
       "         7.28595893e-04, -8.22867204e-02, -6.62807691e-04,\n",
       "        -8.02974398e-07,  5.61601636e-03,  3.37448809e-03,\n",
       "        -1.03793998e-03, -2.88522163e-04, -1.94376519e-02]])"
      ]
     },
     "execution_count": 16,
     "metadata": {},
     "output_type": "execute_result"
    }
   ],
   "source": [
    "model.coef_"
   ]
  },
  {
   "cell_type": "markdown",
   "metadata": {},
   "source": [
    "## Using StatsModels library"
   ]
  },
  {
   "cell_type": "code",
   "execution_count": 17,
   "metadata": {},
   "outputs": [
    {
     "name": "stderr",
     "output_type": "stream",
     "text": [
      "C:\\Users\\isach\\Anaconda3\\lib\\site-packages\\numpy\\core\\fromnumeric.py:2389: FutureWarning: Method .ptp is deprecated and will be removed in a future version. Use numpy.ptp instead.\n",
      "  return ptp(axis=axis, out=out, **kwargs)\n"
     ]
    },
    {
     "name": "stdout",
     "output_type": "stream",
     "text": [
      "Optimization terminated successfully.\n",
      "         Current function value: 0.351414\n",
      "         Iterations 7\n"
     ]
    },
    {
     "data": {
      "text/html": [
       "<table class=\"simpletable\">\n",
       "<caption>Logit Regression Results</caption>\n",
       "<tr>\n",
       "  <th>Dep. Variable:</th>      <td>DEATH_EVENT</td>   <th>  No. Observations:  </th>  <td>   209</td>  \n",
       "</tr>\n",
       "<tr>\n",
       "  <th>Model:</th>                 <td>Logit</td>      <th>  Df Residuals:      </th>  <td>   196</td>  \n",
       "</tr>\n",
       "<tr>\n",
       "  <th>Method:</th>                 <td>MLE</td>       <th>  Df Model:          </th>  <td>    12</td>  \n",
       "</tr>\n",
       "<tr>\n",
       "  <th>Date:</th>            <td>Tue, 07 Jul 2020</td> <th>  Pseudo R-squ.:     </th>  <td>0.4429</td>  \n",
       "</tr>\n",
       "<tr>\n",
       "  <th>Time:</th>                <td>16:44:18</td>     <th>  Log-Likelihood:    </th> <td> -73.445</td> \n",
       "</tr>\n",
       "<tr>\n",
       "  <th>converged:</th>             <td>True</td>       <th>  LL-Null:           </th> <td> -131.85</td> \n",
       "</tr>\n",
       "<tr>\n",
       "  <th>Covariance Type:</th>     <td>nonrobust</td>    <th>  LLR p-value:       </th> <td>2.679e-19</td>\n",
       "</tr>\n",
       "</table>\n",
       "<table class=\"simpletable\">\n",
       "<tr>\n",
       "              <td></td>                <th>coef</th>     <th>std err</th>      <th>z</th>      <th>P>|z|</th>  <th>[0.025</th>    <th>0.975]</th>  \n",
       "</tr>\n",
       "<tr>\n",
       "  <th>const</th>                    <td>   11.4142</td> <td>    6.722</td> <td>    1.698</td> <td> 0.089</td> <td>   -1.760</td> <td>   24.588</td>\n",
       "</tr>\n",
       "<tr>\n",
       "  <th>age</th>                      <td>    0.0663</td> <td>    0.021</td> <td>    3.143</td> <td> 0.002</td> <td>    0.025</td> <td>    0.108</td>\n",
       "</tr>\n",
       "<tr>\n",
       "  <th>anaemia</th>                  <td>    0.0687</td> <td>    0.434</td> <td>    0.158</td> <td> 0.874</td> <td>   -0.781</td> <td>    0.918</td>\n",
       "</tr>\n",
       "<tr>\n",
       "  <th>creatinine_phosphokinase</th> <td>    0.0004</td> <td>    0.000</td> <td>    1.563</td> <td> 0.118</td> <td>   -0.000</td> <td>    0.001</td>\n",
       "</tr>\n",
       "<tr>\n",
       "  <th>diabetes</th>                 <td>    0.2499</td> <td>    0.436</td> <td>    0.573</td> <td> 0.567</td> <td>   -0.605</td> <td>    1.105</td>\n",
       "</tr>\n",
       "<tr>\n",
       "  <th>ejection_fraction</th>        <td>   -0.0883</td> <td>    0.022</td> <td>   -3.980</td> <td> 0.000</td> <td>   -0.132</td> <td>   -0.045</td>\n",
       "</tr>\n",
       "<tr>\n",
       "  <th>high_blood_pressure</th>      <td>   -0.3556</td> <td>    0.454</td> <td>   -0.783</td> <td> 0.433</td> <td>   -1.245</td> <td>    0.534</td>\n",
       "</tr>\n",
       "<tr>\n",
       "  <th>platelets</th>                <td>-1.213e-06</td> <td> 2.23e-06</td> <td>   -0.543</td> <td> 0.587</td> <td>-5.59e-06</td> <td> 3.17e-06</td>\n",
       "</tr>\n",
       "<tr>\n",
       "  <th>serum_creatinine</th>         <td>    0.4064</td> <td>    0.265</td> <td>    1.535</td> <td> 0.125</td> <td>   -0.113</td> <td>    0.925</td>\n",
       "</tr>\n",
       "<tr>\n",
       "  <th>serum_sodium</th>             <td>   -0.0792</td> <td>    0.047</td> <td>   -1.702</td> <td> 0.089</td> <td>   -0.170</td> <td>    0.012</td>\n",
       "</tr>\n",
       "<tr>\n",
       "  <th>sex</th>                      <td>   -1.0197</td> <td>    0.508</td> <td>   -2.009</td> <td> 0.045</td> <td>   -2.015</td> <td>   -0.025</td>\n",
       "</tr>\n",
       "<tr>\n",
       "  <th>smoking</th>                  <td>    0.2383</td> <td>    0.529</td> <td>    0.450</td> <td> 0.653</td> <td>   -0.799</td> <td>    1.276</td>\n",
       "</tr>\n",
       "<tr>\n",
       "  <th>time</th>                     <td>   -0.0206</td> <td>    0.004</td> <td>   -5.554</td> <td> 0.000</td> <td>   -0.028</td> <td>   -0.013</td>\n",
       "</tr>\n",
       "</table>"
      ],
      "text/plain": [
       "<class 'statsmodels.iolib.summary.Summary'>\n",
       "\"\"\"\n",
       "                           Logit Regression Results                           \n",
       "==============================================================================\n",
       "Dep. Variable:            DEATH_EVENT   No. Observations:                  209\n",
       "Model:                          Logit   Df Residuals:                      196\n",
       "Method:                           MLE   Df Model:                           12\n",
       "Date:                Tue, 07 Jul 2020   Pseudo R-squ.:                  0.4429\n",
       "Time:                        16:44:18   Log-Likelihood:                -73.445\n",
       "converged:                       True   LL-Null:                       -131.85\n",
       "Covariance Type:            nonrobust   LLR p-value:                 2.679e-19\n",
       "============================================================================================\n",
       "                               coef    std err          z      P>|z|      [0.025      0.975]\n",
       "--------------------------------------------------------------------------------------------\n",
       "const                       11.4142      6.722      1.698      0.089      -1.760      24.588\n",
       "age                          0.0663      0.021      3.143      0.002       0.025       0.108\n",
       "anaemia                      0.0687      0.434      0.158      0.874      -0.781       0.918\n",
       "creatinine_phosphokinase     0.0004      0.000      1.563      0.118      -0.000       0.001\n",
       "diabetes                     0.2499      0.436      0.573      0.567      -0.605       1.105\n",
       "ejection_fraction           -0.0883      0.022     -3.980      0.000      -0.132      -0.045\n",
       "high_blood_pressure         -0.3556      0.454     -0.783      0.433      -1.245       0.534\n",
       "platelets                -1.213e-06   2.23e-06     -0.543      0.587   -5.59e-06    3.17e-06\n",
       "serum_creatinine             0.4064      0.265      1.535      0.125      -0.113       0.925\n",
       "serum_sodium                -0.0792      0.047     -1.702      0.089      -0.170       0.012\n",
       "sex                         -1.0197      0.508     -2.009      0.045      -2.015      -0.025\n",
       "smoking                      0.2383      0.529      0.450      0.653      -0.799       1.276\n",
       "time                        -0.0206      0.004     -5.554      0.000      -0.028      -0.013\n",
       "============================================================================================\n",
       "\"\"\""
      ]
     },
     "execution_count": 17,
     "metadata": {},
     "output_type": "execute_result"
    }
   ],
   "source": [
    "import statsmodels.api as sm\n",
    "\n",
    "X_m = sm.add_constant(X_train)\n",
    "\n",
    "# Output from statsmodels\n",
    "logit = sm.Logit(y_train, X_m)\n",
    "results = logit.fit()   #.params\n",
    "\n",
    "results.summary()"
   ]
  },
  {
   "cell_type": "code",
   "execution_count": 18,
   "metadata": {},
   "outputs": [
    {
     "name": "stdout",
     "output_type": "stream",
     "text": [
      "Optimization terminated successfully.\n",
      "         Current function value: 0.352582\n",
      "         Iterations 7\n"
     ]
    },
    {
     "data": {
      "text/html": [
       "<table class=\"simpletable\">\n",
       "<caption>Logit Regression Results</caption>\n",
       "<tr>\n",
       "  <th>Dep. Variable:</th>      <td>DEATH_EVENT</td>   <th>  No. Observations:  </th>  <td>   209</td>  \n",
       "</tr>\n",
       "<tr>\n",
       "  <th>Model:</th>                 <td>Logit</td>      <th>  Df Residuals:      </th>  <td>   199</td>  \n",
       "</tr>\n",
       "<tr>\n",
       "  <th>Method:</th>                 <td>MLE</td>       <th>  Df Model:          </th>  <td>     9</td>  \n",
       "</tr>\n",
       "<tr>\n",
       "  <th>Date:</th>            <td>Tue, 07 Jul 2020</td> <th>  Pseudo R-squ.:     </th>  <td>0.4411</td>  \n",
       "</tr>\n",
       "<tr>\n",
       "  <th>Time:</th>                <td>16:48:50</td>     <th>  Log-Likelihood:    </th> <td> -73.690</td> \n",
       "</tr>\n",
       "<tr>\n",
       "  <th>converged:</th>             <td>True</td>       <th>  LL-Null:           </th> <td> -131.85</td> \n",
       "</tr>\n",
       "<tr>\n",
       "  <th>Covariance Type:</th>     <td>nonrobust</td>    <th>  LLR p-value:       </th> <td>7.583e-21</td>\n",
       "</tr>\n",
       "</table>\n",
       "<table class=\"simpletable\">\n",
       "<tr>\n",
       "              <td></td>                <th>coef</th>     <th>std err</th>      <th>z</th>      <th>P>|z|</th>  <th>[0.025</th>    <th>0.975]</th>  \n",
       "</tr>\n",
       "<tr>\n",
       "  <th>const</th>                    <td>   11.2351</td> <td>    6.654</td> <td>    1.689</td> <td> 0.091</td> <td>   -1.806</td> <td>   24.276</td>\n",
       "</tr>\n",
       "<tr>\n",
       "  <th>age</th>                      <td>    0.0661</td> <td>    0.021</td> <td>    3.163</td> <td> 0.002</td> <td>    0.025</td> <td>    0.107</td>\n",
       "</tr>\n",
       "<tr>\n",
       "  <th>creatinine_phosphokinase</th> <td>    0.0004</td> <td>    0.000</td> <td>    1.480</td> <td> 0.139</td> <td>   -0.000</td> <td>    0.001</td>\n",
       "</tr>\n",
       "<tr>\n",
       "  <th>diabetes</th>                 <td>    0.2481</td> <td>    0.435</td> <td>    0.570</td> <td> 0.568</td> <td>   -0.604</td> <td>    1.101</td>\n",
       "</tr>\n",
       "<tr>\n",
       "  <th>ejection_fraction</th>        <td>   -0.0890</td> <td>    0.022</td> <td>   -4.038</td> <td> 0.000</td> <td>   -0.132</td> <td>   -0.046</td>\n",
       "</tr>\n",
       "<tr>\n",
       "  <th>high_blood_pressure</th>      <td>   -0.3742</td> <td>    0.452</td> <td>   -0.828</td> <td> 0.408</td> <td>   -1.260</td> <td>    0.512</td>\n",
       "</tr>\n",
       "<tr>\n",
       "  <th>serum_creatinine</th>         <td>    0.3891</td> <td>    0.261</td> <td>    1.491</td> <td> 0.136</td> <td>   -0.122</td> <td>    0.901</td>\n",
       "</tr>\n",
       "<tr>\n",
       "  <th>serum_sodium</th>             <td>   -0.0794</td> <td>    0.046</td> <td>   -1.725</td> <td> 0.085</td> <td>   -0.170</td> <td>    0.011</td>\n",
       "</tr>\n",
       "<tr>\n",
       "  <th>sex</th>                      <td>   -0.9028</td> <td>    0.451</td> <td>   -2.001</td> <td> 0.045</td> <td>   -1.787</td> <td>   -0.019</td>\n",
       "</tr>\n",
       "<tr>\n",
       "  <th>time</th>                     <td>   -0.0206</td> <td>    0.004</td> <td>   -5.606</td> <td> 0.000</td> <td>   -0.028</td> <td>   -0.013</td>\n",
       "</tr>\n",
       "</table>"
      ],
      "text/plain": [
       "<class 'statsmodels.iolib.summary.Summary'>\n",
       "\"\"\"\n",
       "                           Logit Regression Results                           \n",
       "==============================================================================\n",
       "Dep. Variable:            DEATH_EVENT   No. Observations:                  209\n",
       "Model:                          Logit   Df Residuals:                      199\n",
       "Method:                           MLE   Df Model:                            9\n",
       "Date:                Tue, 07 Jul 2020   Pseudo R-squ.:                  0.4411\n",
       "Time:                        16:48:50   Log-Likelihood:                -73.690\n",
       "converged:                       True   LL-Null:                       -131.85\n",
       "Covariance Type:            nonrobust   LLR p-value:                 7.583e-21\n",
       "============================================================================================\n",
       "                               coef    std err          z      P>|z|      [0.025      0.975]\n",
       "--------------------------------------------------------------------------------------------\n",
       "const                       11.2351      6.654      1.689      0.091      -1.806      24.276\n",
       "age                          0.0661      0.021      3.163      0.002       0.025       0.107\n",
       "creatinine_phosphokinase     0.0004      0.000      1.480      0.139      -0.000       0.001\n",
       "diabetes                     0.2481      0.435      0.570      0.568      -0.604       1.101\n",
       "ejection_fraction           -0.0890      0.022     -4.038      0.000      -0.132      -0.046\n",
       "high_blood_pressure         -0.3742      0.452     -0.828      0.408      -1.260       0.512\n",
       "serum_creatinine             0.3891      0.261      1.491      0.136      -0.122       0.901\n",
       "serum_sodium                -0.0794      0.046     -1.725      0.085      -0.170       0.011\n",
       "sex                         -0.9028      0.451     -2.001      0.045      -1.787      -0.019\n",
       "time                        -0.0206      0.004     -5.606      0.000      -0.028      -0.013\n",
       "============================================================================================\n",
       "\"\"\""
      ]
     },
     "execution_count": 18,
     "metadata": {},
     "output_type": "execute_result"
    }
   ],
   "source": [
    "## not including anaemia, platelets,smoking\n",
    "cols = [\"anaemia\", \"platelets\",\"smoking\"]\n",
    "\n",
    "X_m = X_m.drop(columns =cols)\n",
    "\n",
    "#cols = [\"age\",\"creatinine_phosphokinase\",\"diabetes\",\"ejection_fraction\",\"high_blood_pressure\",\"serum_creatinine\",\"serum_sodium\",\n",
    "#       \"sex\",\"time\"]\n",
    "\n",
    "logit2 = sm.Logit(y_train, X_m)\n",
    "results2 = logit2.fit()   #.params\n",
    "\n",
    "results2.summary()"
   ]
  },
  {
   "cell_type": "code",
   "execution_count": 19,
   "metadata": {
    "scrolled": true
   },
   "outputs": [
    {
     "name": "stdout",
     "output_type": "stream",
     "text": [
      "Optimization terminated successfully.\n",
      "         Current function value: 0.355168\n",
      "         Iterations 7\n"
     ]
    },
    {
     "data": {
      "text/html": [
       "<table class=\"simpletable\">\n",
       "<caption>Logit Regression Results</caption>\n",
       "<tr>\n",
       "  <th>Dep. Variable:</th>      <td>DEATH_EVENT</td>   <th>  No. Observations:  </th>  <td>   209</td>  \n",
       "</tr>\n",
       "<tr>\n",
       "  <th>Model:</th>                 <td>Logit</td>      <th>  Df Residuals:      </th>  <td>   201</td>  \n",
       "</tr>\n",
       "<tr>\n",
       "  <th>Method:</th>                 <td>MLE</td>       <th>  Df Model:          </th>  <td>     7</td>  \n",
       "</tr>\n",
       "<tr>\n",
       "  <th>Date:</th>            <td>Tue, 07 Jul 2020</td> <th>  Pseudo R-squ.:     </th>  <td>0.4370</td>  \n",
       "</tr>\n",
       "<tr>\n",
       "  <th>Time:</th>                <td>16:49:39</td>     <th>  Log-Likelihood:    </th> <td> -74.230</td> \n",
       "</tr>\n",
       "<tr>\n",
       "  <th>converged:</th>             <td>True</td>       <th>  LL-Null:           </th> <td> -131.85</td> \n",
       "</tr>\n",
       "<tr>\n",
       "  <th>Covariance Type:</th>     <td>nonrobust</td>    <th>  LLR p-value:       </th> <td>7.522e-22</td>\n",
       "</tr>\n",
       "</table>\n",
       "<table class=\"simpletable\">\n",
       "<tr>\n",
       "              <td></td>                <th>coef</th>     <th>std err</th>      <th>z</th>      <th>P>|z|</th>  <th>[0.025</th>    <th>0.975]</th>  \n",
       "</tr>\n",
       "<tr>\n",
       "  <th>const</th>                    <td>   11.2482</td> <td>    6.334</td> <td>    1.776</td> <td> 0.076</td> <td>   -1.166</td> <td>   23.662</td>\n",
       "</tr>\n",
       "<tr>\n",
       "  <th>age</th>                      <td>    0.0641</td> <td>    0.020</td> <td>    3.138</td> <td> 0.002</td> <td>    0.024</td> <td>    0.104</td>\n",
       "</tr>\n",
       "<tr>\n",
       "  <th>creatinine_phosphokinase</th> <td>    0.0004</td> <td>    0.000</td> <td>    1.508</td> <td> 0.132</td> <td>   -0.000</td> <td>    0.001</td>\n",
       "</tr>\n",
       "<tr>\n",
       "  <th>ejection_fraction</th>        <td>   -0.0877</td> <td>    0.022</td> <td>   -3.998</td> <td> 0.000</td> <td>   -0.131</td> <td>   -0.045</td>\n",
       "</tr>\n",
       "<tr>\n",
       "  <th>serum_creatinine</th>         <td>    0.4273</td> <td>    0.255</td> <td>    1.675</td> <td> 0.094</td> <td>   -0.073</td> <td>    0.927</td>\n",
       "</tr>\n",
       "<tr>\n",
       "  <th>serum_sodium</th>             <td>   -0.0802</td> <td>    0.045</td> <td>   -1.791</td> <td> 0.073</td> <td>   -0.168</td> <td>    0.008</td>\n",
       "</tr>\n",
       "<tr>\n",
       "  <th>sex</th>                      <td>   -0.8620</td> <td>    0.440</td> <td>   -1.961</td> <td> 0.050</td> <td>   -1.724</td> <td>   -0.000</td>\n",
       "</tr>\n",
       "<tr>\n",
       "  <th>time</th>                     <td>   -0.0200</td> <td>    0.004</td> <td>   -5.600</td> <td> 0.000</td> <td>   -0.027</td> <td>   -0.013</td>\n",
       "</tr>\n",
       "</table>"
      ],
      "text/plain": [
       "<class 'statsmodels.iolib.summary.Summary'>\n",
       "\"\"\"\n",
       "                           Logit Regression Results                           \n",
       "==============================================================================\n",
       "Dep. Variable:            DEATH_EVENT   No. Observations:                  209\n",
       "Model:                          Logit   Df Residuals:                      201\n",
       "Method:                           MLE   Df Model:                            7\n",
       "Date:                Tue, 07 Jul 2020   Pseudo R-squ.:                  0.4370\n",
       "Time:                        16:49:39   Log-Likelihood:                -74.230\n",
       "converged:                       True   LL-Null:                       -131.85\n",
       "Covariance Type:            nonrobust   LLR p-value:                 7.522e-22\n",
       "============================================================================================\n",
       "                               coef    std err          z      P>|z|      [0.025      0.975]\n",
       "--------------------------------------------------------------------------------------------\n",
       "const                       11.2482      6.334      1.776      0.076      -1.166      23.662\n",
       "age                          0.0641      0.020      3.138      0.002       0.024       0.104\n",
       "creatinine_phosphokinase     0.0004      0.000      1.508      0.132      -0.000       0.001\n",
       "ejection_fraction           -0.0877      0.022     -3.998      0.000      -0.131      -0.045\n",
       "serum_creatinine             0.4273      0.255      1.675      0.094      -0.073       0.927\n",
       "serum_sodium                -0.0802      0.045     -1.791      0.073      -0.168       0.008\n",
       "sex                         -0.8620      0.440     -1.961      0.050      -1.724      -0.000\n",
       "time                        -0.0200      0.004     -5.600      0.000      -0.027      -0.013\n",
       "============================================================================================\n",
       "\"\"\""
      ]
     },
     "execution_count": 19,
     "metadata": {},
     "output_type": "execute_result"
    }
   ],
   "source": [
    "cols = [\"diabetes\", \"high_blood_pressure\"]\n",
    "\n",
    "X_m = X_m.drop(columns =cols)\n",
    "\n",
    "logit3 = sm.Logit(y_train, X_m)\n",
    "results3 = logit3.fit()   #.params\n",
    "\n",
    "results3.summary()"
   ]
  },
  {
   "cell_type": "code",
   "execution_count": 20,
   "metadata": {},
   "outputs": [
    {
     "name": "stdout",
     "output_type": "stream",
     "text": [
      "Optimization terminated successfully.\n",
      "         Current function value: 0.370550\n",
      "         Iterations 7\n"
     ]
    },
    {
     "data": {
      "text/html": [
       "<table class=\"simpletable\">\n",
       "<caption>Logit Regression Results</caption>\n",
       "<tr>\n",
       "  <th>Dep. Variable:</th>      <td>DEATH_EVENT</td>   <th>  No. Observations:  </th>  <td>   209</td>  \n",
       "</tr>\n",
       "<tr>\n",
       "  <th>Model:</th>                 <td>Logit</td>      <th>  Df Residuals:      </th>  <td>   203</td>  \n",
       "</tr>\n",
       "<tr>\n",
       "  <th>Method:</th>                 <td>MLE</td>       <th>  Df Model:          </th>  <td>     5</td>  \n",
       "</tr>\n",
       "<tr>\n",
       "  <th>Date:</th>            <td>Tue, 07 Jul 2020</td> <th>  Pseudo R-squ.:     </th>  <td>0.4126</td>  \n",
       "</tr>\n",
       "<tr>\n",
       "  <th>Time:</th>                <td>16:50:24</td>     <th>  Log-Likelihood:    </th> <td> -77.445</td> \n",
       "</tr>\n",
       "<tr>\n",
       "  <th>converged:</th>             <td>True</td>       <th>  LL-Null:           </th> <td> -131.85</td> \n",
       "</tr>\n",
       "<tr>\n",
       "  <th>Covariance Type:</th>     <td>nonrobust</td>    <th>  LLR p-value:       </th> <td>7.337e-22</td>\n",
       "</tr>\n",
       "</table>\n",
       "<table class=\"simpletable\">\n",
       "<tr>\n",
       "          <td></td>             <th>coef</th>     <th>std err</th>      <th>z</th>      <th>P>|z|</th>  <th>[0.025</th>    <th>0.975]</th>  \n",
       "</tr>\n",
       "<tr>\n",
       "  <th>const</th>             <td>    0.7060</td> <td>    1.289</td> <td>    0.548</td> <td> 0.584</td> <td>   -1.821</td> <td>    3.233</td>\n",
       "</tr>\n",
       "<tr>\n",
       "  <th>age</th>               <td>    0.0567</td> <td>    0.019</td> <td>    2.985</td> <td> 0.003</td> <td>    0.019</td> <td>    0.094</td>\n",
       "</tr>\n",
       "<tr>\n",
       "  <th>ejection_fraction</th> <td>   -0.0855</td> <td>    0.021</td> <td>   -4.083</td> <td> 0.000</td> <td>   -0.126</td> <td>   -0.044</td>\n",
       "</tr>\n",
       "<tr>\n",
       "  <th>serum_creatinine</th>  <td>    0.4960</td> <td>    0.248</td> <td>    2.000</td> <td> 0.045</td> <td>    0.010</td> <td>    0.982</td>\n",
       "</tr>\n",
       "<tr>\n",
       "  <th>sex</th>               <td>   -0.6705</td> <td>    0.422</td> <td>   -1.588</td> <td> 0.112</td> <td>   -1.498</td> <td>    0.157</td>\n",
       "</tr>\n",
       "<tr>\n",
       "  <th>time</th>              <td>   -0.0196</td> <td>    0.003</td> <td>   -5.659</td> <td> 0.000</td> <td>   -0.026</td> <td>   -0.013</td>\n",
       "</tr>\n",
       "</table>"
      ],
      "text/plain": [
       "<class 'statsmodels.iolib.summary.Summary'>\n",
       "\"\"\"\n",
       "                           Logit Regression Results                           \n",
       "==============================================================================\n",
       "Dep. Variable:            DEATH_EVENT   No. Observations:                  209\n",
       "Model:                          Logit   Df Residuals:                      203\n",
       "Method:                           MLE   Df Model:                            5\n",
       "Date:                Tue, 07 Jul 2020   Pseudo R-squ.:                  0.4126\n",
       "Time:                        16:50:24   Log-Likelihood:                -77.445\n",
       "converged:                       True   LL-Null:                       -131.85\n",
       "Covariance Type:            nonrobust   LLR p-value:                 7.337e-22\n",
       "=====================================================================================\n",
       "                        coef    std err          z      P>|z|      [0.025      0.975]\n",
       "-------------------------------------------------------------------------------------\n",
       "const                 0.7060      1.289      0.548      0.584      -1.821       3.233\n",
       "age                   0.0567      0.019      2.985      0.003       0.019       0.094\n",
       "ejection_fraction    -0.0855      0.021     -4.083      0.000      -0.126      -0.044\n",
       "serum_creatinine      0.4960      0.248      2.000      0.045       0.010       0.982\n",
       "sex                  -0.6705      0.422     -1.588      0.112      -1.498       0.157\n",
       "time                 -0.0196      0.003     -5.659      0.000      -0.026      -0.013\n",
       "=====================================================================================\n",
       "\"\"\""
      ]
     },
     "execution_count": 20,
     "metadata": {},
     "output_type": "execute_result"
    }
   ],
   "source": [
    "cols = [\"serum_sodium\", \"creatinine_phosphokinase\"]\n",
    "\n",
    "X_m = X_m.drop(columns =cols)\n",
    "\n",
    "logit4 = sm.Logit(y_train, X_m)\n",
    "results4 = logit4.fit()   #.params\n",
    "\n",
    "results4.summary()"
   ]
  },
  {
   "cell_type": "code",
   "execution_count": 21,
   "metadata": {},
   "outputs": [
    {
     "name": "stdout",
     "output_type": "stream",
     "text": [
      "Optimization terminated successfully.\n",
      "         Current function value: 0.376670\n",
      "         Iterations 7\n"
     ]
    },
    {
     "data": {
      "text/html": [
       "<table class=\"simpletable\">\n",
       "<caption>Logit Regression Results</caption>\n",
       "<tr>\n",
       "  <th>Dep. Variable:</th>      <td>DEATH_EVENT</td>   <th>  No. Observations:  </th>  <td>   209</td>  \n",
       "</tr>\n",
       "<tr>\n",
       "  <th>Model:</th>                 <td>Logit</td>      <th>  Df Residuals:      </th>  <td>   204</td>  \n",
       "</tr>\n",
       "<tr>\n",
       "  <th>Method:</th>                 <td>MLE</td>       <th>  Df Model:          </th>  <td>     4</td>  \n",
       "</tr>\n",
       "<tr>\n",
       "  <th>Date:</th>            <td>Tue, 07 Jul 2020</td> <th>  Pseudo R-squ.:     </th>  <td>0.4029</td>  \n",
       "</tr>\n",
       "<tr>\n",
       "  <th>Time:</th>                <td>16:51:06</td>     <th>  Log-Likelihood:    </th> <td> -78.724</td> \n",
       "</tr>\n",
       "<tr>\n",
       "  <th>converged:</th>             <td>True</td>       <th>  LL-Null:           </th> <td> -131.85</td> \n",
       "</tr>\n",
       "<tr>\n",
       "  <th>Covariance Type:</th>     <td>nonrobust</td>    <th>  LLR p-value:       </th> <td>4.600e-22</td>\n",
       "</tr>\n",
       "</table>\n",
       "<table class=\"simpletable\">\n",
       "<tr>\n",
       "          <td></td>             <th>coef</th>     <th>std err</th>      <th>z</th>      <th>P>|z|</th>  <th>[0.025</th>    <th>0.975]</th>  \n",
       "</tr>\n",
       "<tr>\n",
       "  <th>const</th>             <td>    0.4485</td> <td>    1.260</td> <td>    0.356</td> <td> 0.722</td> <td>   -2.020</td> <td>    2.917</td>\n",
       "</tr>\n",
       "<tr>\n",
       "  <th>age</th>               <td>    0.0525</td> <td>    0.019</td> <td>    2.836</td> <td> 0.005</td> <td>    0.016</td> <td>    0.089</td>\n",
       "</tr>\n",
       "<tr>\n",
       "  <th>ejection_fraction</th> <td>   -0.0821</td> <td>    0.021</td> <td>   -4.002</td> <td> 0.000</td> <td>   -0.122</td> <td>   -0.042</td>\n",
       "</tr>\n",
       "<tr>\n",
       "  <th>serum_creatinine</th>  <td>    0.4871</td> <td>    0.253</td> <td>    1.928</td> <td> 0.054</td> <td>   -0.008</td> <td>    0.982</td>\n",
       "</tr>\n",
       "<tr>\n",
       "  <th>time</th>              <td>   -0.0197</td> <td>    0.003</td> <td>   -5.701</td> <td> 0.000</td> <td>   -0.026</td> <td>   -0.013</td>\n",
       "</tr>\n",
       "</table>"
      ],
      "text/plain": [
       "<class 'statsmodels.iolib.summary.Summary'>\n",
       "\"\"\"\n",
       "                           Logit Regression Results                           \n",
       "==============================================================================\n",
       "Dep. Variable:            DEATH_EVENT   No. Observations:                  209\n",
       "Model:                          Logit   Df Residuals:                      204\n",
       "Method:                           MLE   Df Model:                            4\n",
       "Date:                Tue, 07 Jul 2020   Pseudo R-squ.:                  0.4029\n",
       "Time:                        16:51:06   Log-Likelihood:                -78.724\n",
       "converged:                       True   LL-Null:                       -131.85\n",
       "Covariance Type:            nonrobust   LLR p-value:                 4.600e-22\n",
       "=====================================================================================\n",
       "                        coef    std err          z      P>|z|      [0.025      0.975]\n",
       "-------------------------------------------------------------------------------------\n",
       "const                 0.4485      1.260      0.356      0.722      -2.020       2.917\n",
       "age                   0.0525      0.019      2.836      0.005       0.016       0.089\n",
       "ejection_fraction    -0.0821      0.021     -4.002      0.000      -0.122      -0.042\n",
       "serum_creatinine      0.4871      0.253      1.928      0.054      -0.008       0.982\n",
       "time                 -0.0197      0.003     -5.701      0.000      -0.026      -0.013\n",
       "=====================================================================================\n",
       "\"\"\""
      ]
     },
     "execution_count": 21,
     "metadata": {},
     "output_type": "execute_result"
    }
   ],
   "source": [
    "cols = [\"sex\"]\n",
    "\n",
    "X_m = X_m.drop(columns =cols)\n",
    "\n",
    "logit5 = sm.Logit(y_train, X_m)\n",
    "results5 = logit5.fit()   #.params\n",
    "\n",
    "results5.summary()"
   ]
  },
  {
   "cell_type": "markdown",
   "metadata": {},
   "source": [
    "What do we calculate?\n",
    "\n",
    "$$ Log Odds( y=1 )=  \\beta_0+ \\beta_{ejection}*x_{ejection} + \\beta_{serum}*x_{serum} + \\beta_{time}*x_{time} $$\n",
    "\n",
    "Odds\n",
    "\n",
    "$$ Odds( y=1 )= e^{ \\beta_0+ \\beta_{ejection}*x_{ejection} + \\beta_{serum}*_{serum} + \\beta_{time}*_{time} } = \n",
    "               e^{ \\beta_0}  e^{\\beta_{ejection}*x_{ejection}} e^{ \\beta_{serum}*x_{serum}} e^{\\beta_{time}*x_{time} }$$\n",
    "\n",
    "we know\n",
    "\n",
    "$$ Odds = {p \\over {1 - p}} $$\n",
    "\n",
    "Probability of y given x:\n",
    "\n",
    "$$  P(y=1|X)  = {1\\over {1 + e^{- (\\beta_0 + \\beta_{ejection}*x_{ejection} + \\beta_{serum}*x_{serum}\n",
    "                       + \\beta_{time}*x_{time} )}}  }  $$\n",
    "                       \n",
    "In summary, we calculate the LogOdds and then the probability which we transform to 0 or 1 using a threshold, typically 0.5.\n"
   ]
  },
  {
   "cell_type": "markdown",
   "metadata": {},
   "source": [
    "## Performance of the model"
   ]
  },
  {
   "cell_type": "code",
   "execution_count": 30,
   "metadata": {},
   "outputs": [
    {
     "name": "stdout",
     "output_type": "stream",
     "text": [
      "Accuracy in Training set:  0.8373205741626795\n",
      "Accuracy in Testing set:  0.8222222222222222\n"
     ]
    }
   ],
   "source": [
    "colu = ['age', 'ejection_fraction', 'serum_creatinine', 'time'] # columns we need\n",
    "\n",
    "X_test_m = sm.add_constant(X_test[colu])  ## necessary\n",
    "\n",
    "pred_train = results5.predict(X_m)    ## results are probabilities\n",
    "\n",
    "pred_train =  pred_train.apply(lambda x: 1 if x >0.5 else 0)\n",
    "\n",
    "pred_test = results5.predict(X_test_m)\n",
    "\n",
    "pred_test =  pred_test.apply(lambda x: 1 if x >0.5 else 0)\n",
    "\n",
    "##  score function not available in statsmodels\n",
    "\n",
    "from sklearn.metrics import accuracy_score\n",
    "\n",
    "accuracyTrain = accuracy_score(y_train, pred_train )\n",
    "accuracyTest = accuracy_score(y_test, pred_test)\n",
    "\n",
    "print(\"Accuracy in Training set: \", accuracyTrain)\n",
    "\n",
    "print(\"Accuracy in Testing set: \", accuracyTest)"
   ]
  },
  {
   "cell_type": "markdown",
   "metadata": {},
   "source": [
    "#### Question: Different than model used with sklearn.linear_model  ??"
   ]
  },
  {
   "cell_type": "code",
   "execution_count": 35,
   "metadata": {},
   "outputs": [
    {
     "data": {
      "text/plain": [
       "0.8222222222222222"
      ]
     },
     "execution_count": 35,
     "metadata": {},
     "output_type": "execute_result"
    }
   ],
   "source": [
    "model.fit(X_train[colu], y_train).score(X_test[colu], y_test)"
   ]
  },
  {
   "cell_type": "markdown",
   "metadata": {},
   "source": [
    "### Other way to run logistic model??"
   ]
  },
  {
   "cell_type": "code",
   "execution_count": 36,
   "metadata": {},
   "outputs": [
    {
     "data": {
      "text/plain": [
       "Index(['const', 'age', 'ejection_fraction', 'serum_creatinine', 'time'], dtype='object')"
      ]
     },
     "execution_count": 36,
     "metadata": {},
     "output_type": "execute_result"
    }
   ],
   "source": [
    "X_m.columns"
   ]
  },
  {
   "cell_type": "code",
   "execution_count": 37,
   "metadata": {},
   "outputs": [
    {
     "data": {
      "text/html": [
       "<table class=\"simpletable\">\n",
       "<caption>Generalized Linear Model Regression Results</caption>\n",
       "<tr>\n",
       "  <th>Dep. Variable:</th>      <td>DEATH_EVENT</td>   <th>  No. Observations:  </th>  <td>   209</td> \n",
       "</tr>\n",
       "<tr>\n",
       "  <th>Model:</th>                  <td>GLM</td>       <th>  Df Residuals:      </th>  <td>   204</td> \n",
       "</tr>\n",
       "<tr>\n",
       "  <th>Model Family:</th>        <td>Binomial</td>     <th>  Df Model:          </th>  <td>     4</td> \n",
       "</tr>\n",
       "<tr>\n",
       "  <th>Link Function:</th>         <td>logit</td>      <th>  Scale:             </th> <td>  1.0000</td>\n",
       "</tr>\n",
       "<tr>\n",
       "  <th>Method:</th>                <td>IRLS</td>       <th>  Log-Likelihood:    </th> <td> -78.724</td>\n",
       "</tr>\n",
       "<tr>\n",
       "  <th>Date:</th>            <td>Tue, 30 Jun 2020</td> <th>  Deviance:          </th> <td>  157.45</td>\n",
       "</tr>\n",
       "<tr>\n",
       "  <th>Time:</th>                <td>23:17:39</td>     <th>  Pearson chi2:      </th>  <td>  212.</td> \n",
       "</tr>\n",
       "<tr>\n",
       "  <th>No. Iterations:</th>          <td>6</td>        <th>                     </th>     <td> </td>   \n",
       "</tr>\n",
       "<tr>\n",
       "  <th>Covariance Type:</th>     <td>nonrobust</td>    <th>                     </th>     <td> </td>   \n",
       "</tr>\n",
       "</table>\n",
       "<table class=\"simpletable\">\n",
       "<tr>\n",
       "          <td></td>             <th>coef</th>     <th>std err</th>      <th>z</th>      <th>P>|z|</th>  <th>[0.025</th>    <th>0.975]</th>  \n",
       "</tr>\n",
       "<tr>\n",
       "  <th>const</th>             <td>    0.4485</td> <td>    1.260</td> <td>    0.356</td> <td> 0.722</td> <td>   -2.020</td> <td>    2.917</td>\n",
       "</tr>\n",
       "<tr>\n",
       "  <th>age</th>               <td>    0.0525</td> <td>    0.019</td> <td>    2.836</td> <td> 0.005</td> <td>    0.016</td> <td>    0.089</td>\n",
       "</tr>\n",
       "<tr>\n",
       "  <th>ejection_fraction</th> <td>   -0.0821</td> <td>    0.021</td> <td>   -4.002</td> <td> 0.000</td> <td>   -0.122</td> <td>   -0.042</td>\n",
       "</tr>\n",
       "<tr>\n",
       "  <th>serum_creatinine</th>  <td>    0.4871</td> <td>    0.253</td> <td>    1.928</td> <td> 0.054</td> <td>   -0.008</td> <td>    0.982</td>\n",
       "</tr>\n",
       "<tr>\n",
       "  <th>time</th>              <td>   -0.0197</td> <td>    0.003</td> <td>   -5.701</td> <td> 0.000</td> <td>   -0.026</td> <td>   -0.013</td>\n",
       "</tr>\n",
       "</table>"
      ],
      "text/plain": [
       "<class 'statsmodels.iolib.summary.Summary'>\n",
       "\"\"\"\n",
       "                 Generalized Linear Model Regression Results                  \n",
       "==============================================================================\n",
       "Dep. Variable:            DEATH_EVENT   No. Observations:                  209\n",
       "Model:                            GLM   Df Residuals:                      204\n",
       "Model Family:                Binomial   Df Model:                            4\n",
       "Link Function:                  logit   Scale:                          1.0000\n",
       "Method:                          IRLS   Log-Likelihood:                -78.724\n",
       "Date:                Tue, 30 Jun 2020   Deviance:                       157.45\n",
       "Time:                        23:17:39   Pearson chi2:                     212.\n",
       "No. Iterations:                     6                                         \n",
       "Covariance Type:            nonrobust                                         \n",
       "=====================================================================================\n",
       "                        coef    std err          z      P>|z|      [0.025      0.975]\n",
       "-------------------------------------------------------------------------------------\n",
       "const                 0.4485      1.260      0.356      0.722      -2.020       2.917\n",
       "age                   0.0525      0.019      2.836      0.005       0.016       0.089\n",
       "ejection_fraction    -0.0821      0.021     -4.002      0.000      -0.122      -0.042\n",
       "serum_creatinine      0.4871      0.253      1.928      0.054      -0.008       0.982\n",
       "time                 -0.0197      0.003     -5.701      0.000      -0.026      -0.013\n",
       "=====================================================================================\n",
       "\"\"\""
      ]
     },
     "execution_count": 37,
     "metadata": {},
     "output_type": "execute_result"
    }
   ],
   "source": [
    "logit_glm = sm.GLM(y_train, X_m, family=sm.families.Binomial()).fit()\n",
    "logit_glm.summary()"
   ]
  }
 ],
 "metadata": {
  "kernelspec": {
   "display_name": "Python 3",
   "language": "python",
   "name": "python3"
  },
  "language_info": {
   "codemirror_mode": {
    "name": "ipython",
    "version": 3
   },
   "file_extension": ".py",
   "mimetype": "text/x-python",
   "name": "python",
   "nbconvert_exporter": "python",
   "pygments_lexer": "ipython3",
   "version": "3.7.4"
  }
 },
 "nbformat": 4,
 "nbformat_minor": 2
}
